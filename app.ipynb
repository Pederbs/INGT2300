{
 "cells": [
  {
   "attachments": {},
   "cell_type": "markdown",
   "metadata": {},
   "source": [
    "Visualisering av hvordan appen kommer til å se ut"
   ]
  },
  {
   "attachments": {},
   "cell_type": "markdown",
   "metadata": {},
   "source": [
    "Sett inn hvor i Norge du bor:\n",
    "- NO1 = Oslo / Øst-Norge\n",
    "- NO2 = Kristiansand / Sør-Norge\n",
    "- NO3 = Trondheim / Midt-Norge\n",
    "- NO4 = Tromsø / Nord-Norge\n",
    "- NO5 = Bergen / Vest-Norge"
   ]
  },
  {
   "cell_type": "code",
   "execution_count": 7,
   "metadata": {},
   "outputs": [],
   "source": [
    "#initial betingelser\n",
    "import requests\n",
    "import pandas as pd\n",
    "import matplotlib.pyplot as plt"
   ]
  },
  {
   "cell_type": "code",
   "execution_count": null,
   "metadata": {},
   "outputs": [],
   "source": [
    "priceArea = \"NO1\"\n",
    "\n",
    "#starter simuleringen fra Dato\n",
    "\n",
    "startDate = \"01\"\n",
    "startMonth = \"01\"\n",
    "startYear = \"2022\"\n",
    "\n",
    "link = \"https://www.hvakosterstrommen.no/api/v1/prices/\" + startYear + \"/\" + startMonth + \"-\" + startDate + \"_\" + priceArea + \".json\"\n",
    "\n",
    "response = requests.get(link).text\n",
    "\n",
    "df = pd.read_json(response)\n",
    "df\n",
    "dfClean = df.drop(['EXR', 'EUR_per_kWh'], axis=1)\n",
    "\n",
    "dfClean.plot()\n",
    "plt.show()"
   ]
  },
  {
   "cell_type": "code",
   "execution_count": 12,
   "metadata": {},
   "outputs": [
    {
     "data": {
      "image/png": "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",
      "text/plain": [
       "<Figure size 432x288 with 1 Axes>"
      ]
     },
     "metadata": {
      "needs_background": "light"
     },
     "output_type": "display_data"
    }
   ],
   "source": [
<<<<<<< HEAD
=======
    "#fungerer ikke \n",
    "#var ment som et forsøk på å vidre utvikle koden uten å ødelegge det som allerede fungerer\n",
    "#det som er forsøkt lagt til her er datainnhenting over et år\n",
    "\n",
    "import requests\n",
    "import pandas as pd\n",
    "import matplotlib.pyplot as plt\n",
    "\n",
>>>>>>> ab314efd08aaefc549bee68754cdac4b4dd20058
    "def checkMonth(currentDate, currentMonth):\n",
    "    if (currentDate == 30) and (currentMonth == (4 or 6 or 9 or 11)):\n",
    "        return True\n",
    "    if (currentDate == 28) and (currentMonth == 2):\n",
    "        return True\n",
    "    if (currentDate == 31) and (currentMonth == (1 or 3 or 5 or 7 or 8 or 10 or 12)):\n",
    "        return True\n",
    "    else:\n",
    "        return False\n",
    "\n",
    "def makeStr(number):\n",
    "    str_number = str(number)\n",
    "    if len(str_number) < 2:\n",
    "        str_number = \"0\" + str_number\n",
    "        return str_number\n",
    "    else:\n",
    "        return str(str_number)\n",
    "\n",
    "\n",
    "priceArea = \"NO1\"\n",
    "\n",
    "#starter simuleringen fra Dato\n",
    "\n",
    "startDate = 1\n",
    "startMonth = 1\n",
    "startYear = 2022\n",
    "\n",
    "#fetching data for a year\n",
    "#not accounting for leap year so just fetching 365 days\n",
    "date = startDate\n",
    "month = startMonth\n",
    "year = startYear\n",
    "#for date in range(1,366):\n",
    "for date in range(1,30):\n",
    "    strDate = makeStr(date)\n",
    "    strMonth = makeStr(month)\n",
    "    link = \"https://www.hvakosterstrommen.no/api/v1/prices/\" + str(year) + \"/\" + strMonth + \"-\" + strDate + \"_\" + priceArea + \".json\"\n",
    "\n",
    "    if checkMonth(date, month) == True:\n",
    "        date = 1\n",
    "        month = month + 1\n",
    "    else:\n",
    "        date += 1\n",
    "\n",
    "    if month == 13:\n",
    "        month = 1\n",
    "        year += 1\n",
    "\n",
    "    response = requests.get(link).text\n",
    "\n",
    "    df = pd.read_json(response)\n",
    "    df\n",
    "    dfClean = df.drop(['EXR', 'EUR_per_kWh'], axis=1)\n",
    "\n",
    "dfClean.plot()\n",
    "plt.show()"
   ]
  }
 ],
 "metadata": {
  "kernelspec": {
   "display_name": "base",
   "language": "python",
   "name": "python3"
  },
  "language_info": {
   "codemirror_mode": {
    "name": "ipython",
    "version": 3
   },
   "file_extension": ".py",
   "mimetype": "text/x-python",
   "name": "python",
   "nbconvert_exporter": "python",
   "pygments_lexer": "ipython3",
   "version": "3.9.7"
  },
  "orig_nbformat": 4,
  "vscode": {
   "interpreter": {
    "hash": "cdfc904a509b663468396029a6dd2bb515dfb76c3264c03096c385896b2c55ad"
   }
  }
 },
 "nbformat": 4,
 "nbformat_minor": 2
}
