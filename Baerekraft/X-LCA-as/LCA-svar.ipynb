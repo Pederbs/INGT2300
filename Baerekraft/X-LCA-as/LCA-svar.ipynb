{
 "cells": [
  {
   "cell_type": "code",
   "execution_count": 4,
   "metadata": {},
   "outputs": [
    {
     "name": "stdout",
     "output_type": "stream",
     "text": [
      "[[ 8 -1]\n",
      " [-7  1]]\n"
     ]
    }
   ],
   "source": [
    "# Kjør cellen nedenfor før du starter oppgavene\n",
    "import numpy as np\n",
    "\n",
    "# 1a\n",
    "A = np.array([[8, -1], [-7, 1]])\n",
    "print(A)"
   ]
  },
  {
   "cell_type": "code",
   "execution_count": 6,
   "metadata": {},
   "outputs": [
    {
     "name": "stdout",
     "output_type": "stream",
     "text": [
      "[[   0]\n",
      " [1140]]\n"
     ]
    }
   ],
   "source": [
    "# 1b\n",
    "f = np.array([[0],[1140]])\n",
    "print(f)"
   ]
  },
  {
   "cell_type": "code",
   "execution_count": 7,
   "metadata": {},
   "outputs": [
    {
     "name": "stdout",
     "output_type": "stream",
     "text": [
      "[[-5.   0. ]\n",
      " [ 1.5  0.2]]\n"
     ]
    }
   ],
   "source": [
    "# 1c\n",
    "B = np.array([[-5, 0], [1.5, 0.2]])\n",
    "print(B)"
   ]
  },
  {
   "cell_type": "code",
   "execution_count": 8,
   "metadata": {},
   "outputs": [
    {
     "name": "stdout",
     "output_type": "stream",
     "text": [
      "[[1.]\n",
      " [7.]]\n",
      "[[-5. ]\n",
      " [ 2.9]]\n"
     ]
    }
   ],
   "source": [
    "# 1d\n",
    "g = np.array([[1],[0]])\n",
    "s = np.linalg.inv(A)@g\n",
    "print(s)\n",
    "r = B@s\n",
    "print(r)"
   ]
  },
  {
   "cell_type": "code",
   "execution_count": 9,
   "metadata": {},
   "outputs": [],
   "source": [
    "# 1e\n",
    "f_fuel_perkWh = 1"
   ]
  },
  {
   "cell_type": "code",
   "execution_count": 11,
   "metadata": {},
   "outputs": [
    {
     "name": "stdout",
     "output_type": "stream",
     "text": [
      "0.8333333333333334 \n",
      " 0.9784735812133072\n"
     ]
    }
   ],
   "source": [
    "# 2a\n",
    "x1 = 2000\n",
    "y1 = 1100\n",
    "y2 = 220\n",
    "y1e = 1000\n",
    "y2e = 110\n",
    "\n",
    "x_mass_steel = y1/(y1+y2)\n",
    "x_econ_steel = y1*y1e/(y1*y1e+y2*y2e)\n",
    "print(x_mass_steel, \"\\n\", x_econ_steel)"
   ]
  },
  {
   "cell_type": "code",
   "execution_count": 12,
   "metadata": {},
   "outputs": [
    {
     "name": "stdout",
     "output_type": "stream",
     "text": [
      "1.7790428749332858 \n",
      " 0.13342821561999643 \n",
      " 0.0001779042874933286\n"
     ]
    }
   ],
   "source": [
    "# 2b\n",
    "CO2 = 2000\n",
    "SO2 = 150\n",
    "PM10 = 0.2\n",
    "\n",
    "steel_hq_CO2 = CO2 * x_econ_steel / y1\n",
    "steel_hq_SO2 = SO2 * x_econ_steel / y1\n",
    "steel_hq_PM10 = PM10 * x_econ_steel / y1\n",
    "print(steel_hq_CO2, '\\n', steel_hq_SO2, '\\n', steel_hq_PM10)"
   ]
  },
  {
   "cell_type": "code",
   "execution_count": 13,
   "metadata": {},
   "outputs": [
    {
     "name": "stdout",
     "output_type": "stream",
     "text": [
      "1.2368550200539155\n"
     ]
    }
   ],
   "source": [
    "# 3\n",
    "milk = 133000 # l\n",
    "meat = 5430 # kg\n",
    "heif = 1 # stk\n",
    "\n",
    "price_milk = 4\n",
    "price_meat = 40\n",
    "price_heif = 11250\n",
    "\n",
    "flow_milk = milk * price_milk\n",
    "flow_meat = meat * price_meat\n",
    "flow_heif = heif * price_heif\n",
    "\n",
    "tot_flow = flow_milk + flow_meat + flow_heif\n",
    "\n",
    "w_milk = flow_milk / tot_flow\n",
    "w_meat = flow_meat / tot_flow\n",
    "w_heif = flow_heif / tot_flow\n",
    "\n",
    "food = -60000\n",
    "fuel = -3900\n",
    "fert = -3195\n",
    "el = -26000\n",
    "\n",
    "CO2e_food = 0.63\n",
    "CO2e_fuel = 0.25\n",
    "CO2e_fert = 1.88\n",
    "CO2e_el = 0.05\n",
    "\n",
    "CO2 = 9880 * 1\n",
    "CH4 = 5270 * 34\n",
    "U = CO2 + CH4\n",
    "\n",
    "A = np.array([[1, 0, 0, 0, food*w_milk, food*w_meat, food*w_heif], \n",
    "             [0, 1, 0, 0, fuel*w_milk, fuel*w_meat, fuel*w_heif], \n",
    "             [0, 0, 1, 0, fert*w_milk, fert*w_meat, fert*w_heif], \n",
    "             [0, 0, 0, 1, el*w_milk, el*w_meat, el*w_heif], \n",
    "             [0, 0, 0, 0, milk, 0, 0], \n",
    "             [0, 0, 0, 0, 0, meat, 0],  \n",
    "             [0, 0, 0, 0, 0, 0, heif]])\n",
    "\n",
    "B = np.array([CO2e_food, CO2e_fuel, CO2e_fert, CO2e_el, U*w_milk, U*w_meat, U*w_heif])\n",
    "\n",
    "f = np.array([0, 0, 0, 0, 1, 0, 0])\n",
    "\n",
    "R = B@np.linalg.inv(A)@f\n",
    "CO2melk = R\n",
    "print(CO2melk)\n"
   ]
  },
  {
   "cell_type": "code",
   "execution_count": null,
   "metadata": {},
   "outputs": [],
   "source": []
  }
 ],
 "metadata": {
  "kernelspec": {
   "display_name": "base",
   "language": "python",
   "name": "python3"
  },
  "language_info": {
   "codemirror_mode": {
    "name": "ipython",
    "version": 3
   },
   "file_extension": ".py",
   "mimetype": "text/x-python",
   "name": "python",
   "nbconvert_exporter": "python",
   "pygments_lexer": "ipython3",
   "version": "3.9.7"
  },
  "orig_nbformat": 4
 },
 "nbformat": 4,
 "nbformat_minor": 2
}
