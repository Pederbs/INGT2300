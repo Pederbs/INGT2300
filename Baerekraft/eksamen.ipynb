{
 "cells": [
  {
   "attachments": {},
   "cell_type": "markdown",
   "metadata": {},
   "source": [
    "# Oppgave 24\n"
   ]
  },
  {
   "cell_type": "code",
   "execution_count": 7,
   "metadata": {},
   "outputs": [
    {
     "data": {
      "text/plain": [
       "array([[1787.53936723]])"
      ]
     },
     "execution_count": 7,
     "metadata": {},
     "output_type": "execute_result"
    }
   ],
   "source": [
    "import numpy as np\n",
    "\n",
    "A = np.array([[1, -0.0001, 0, -0.0001],\n",
    "              [-300, 1, -1000, -1],\n",
    "              [0, -0.0002, 1, -0.0001],\n",
    "              [-250, 0, -100, 1]])\n",
    "\n",
    "B = np.array([[1200, 0.005, 500, 0.05]])\n",
    "f = np.array([[0], [0], [2], [15]])\n",
    "\n",
    "r = B@np.linalg.inv(A)@f\n",
    "r"
   ]
  },
  {
   "cell_type": "code",
   "execution_count": 13,
   "metadata": {},
   "outputs": [
    {
     "data": {
      "text/plain": [
       "1787.5393672349023"
      ]
     },
     "execution_count": 13,
     "metadata": {},
     "output_type": "execute_result"
    }
   ],
   "source": [
    "r[0,0]"
   ]
  },
  {
   "attachments": {},
   "cell_type": "markdown",
   "metadata": {},
   "source": [
    "# Oppgave 25"
   ]
  },
  {
   "cell_type": "code",
   "execution_count": 12,
   "metadata": {},
   "outputs": [
    {
     "data": {
      "text/plain": [
       "array([[209931.50684932],\n",
       "       [684931.50684932],\n",
       "       [184931.50684932],\n",
       "       [500000.        ],\n",
       "       [ 25000.        ],\n",
       "       [475000.        ]])"
      ]
     },
     "execution_count": 12,
     "metadata": {},
     "output_type": "execute_result"
    }
   ],
   "source": [
    "K = np.array([[1, -1, 0, 0, 0, 1],\n",
    "              [0, 1, -1, -1, 0, 0],\n",
    "              [0, 0, 0, 1, -1, -1],\n",
    "              [0, -0.27, 1, 0, 0, 0],\n",
    "              [0, 0, 0, -0.05, 1, 0],\n",
    "              [0, 0, 0, 1, 0, 0]])\n",
    "y = np.array([[0], [0], [0], [0], [0], [500000]])\n",
    "x = np.linalg.inv(K)@y\n",
    "x"
   ]
  },
  {
   "cell_type": "code",
   "execution_count": 16,
   "metadata": {},
   "outputs": [
    {
     "data": {
      "text/plain": [
       "209931.50684931516"
      ]
     },
     "execution_count": 16,
     "metadata": {},
     "output_type": "execute_result"
    }
   ],
   "source": [
    "x[0,0]"
   ]
  },
  {
   "cell_type": "code",
   "execution_count": null,
   "metadata": {},
   "outputs": [],
   "source": []
  }
 ],
 "metadata": {
  "kernelspec": {
   "display_name": "base",
   "language": "python",
   "name": "python3"
  },
  "language_info": {
   "codemirror_mode": {
    "name": "ipython",
    "version": 3
   },
   "file_extension": ".py",
   "mimetype": "text/x-python",
   "name": "python",
   "nbconvert_exporter": "python",
   "pygments_lexer": "ipython3",
   "version": "3.9.7"
  },
  "orig_nbformat": 4
 },
 "nbformat": 4,
 "nbformat_minor": 2
}
